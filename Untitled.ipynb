{
 "cells": [
  {
   "cell_type": "code",
   "execution_count": 1,
   "id": "2fb721c7",
   "metadata": {},
   "outputs": [
    {
     "name": "stdout",
     "output_type": "stream",
     "text": [
      "Enter a sentence in sign language: After\n",
      "Displaying avatar for closest match: After...\n",
      "Path to file: C:\\Users\\91735\\OneDrive\\Desktop\\audio to sign\\firsttry\\assets\\After.mp4\n"
     ]
    }
   ],
   "source": [
    "import os\n",
    "from nltk.metrics import edit_distance\n",
    "\n",
    "def find_closest_match(user_input, sign_languages):\n",
    "    # Calculate the edit distance (Levenshtein distance) between user input and each sign language\n",
    "    distances = [(language, edit_distance(user_input, language)) for language in sign_languages]\n",
    "    # Sort the distances by the edit distance in ascending order\n",
    "    sorted_distances = sorted(distances, key=lambda x: x[1])\n",
    "    # Return the sign language with the smallest edit distance\n",
    "    return sorted_distances[0][0]\n",
    "\n",
    "def display_avatar(sign_language):\n",
    "    # Path to the folder containing avatar videos\n",
    "    folder_path = \"C:\\\\Users\\\\91735\\\\OneDrive\\\\Desktop\\\\audio to sign\\\\firsttry\\\\assets\"\n",
    "\n",
    "    # Dictionary mapping sign languages to file names\n",
    "    sign_language_files = {\n",
    "        \"After\": \"After.mp4\",\n",
    "        # Add more sign languages and their corresponding file names as needed\n",
    "    }\n",
    "\n",
    "    # Check if the sign language provided by the user exists in the dictionary\n",
    "    if sign_language in sign_language_files:\n",
    "        file_name = sign_language_files[sign_language]\n",
    "        file_path = os.path.join(folder_path, file_name)\n",
    "        \n",
    "        # Check if the file exists\n",
    "        if os.path.exists(file_path):\n",
    "            print(f\"Displaying avatar for {sign_language}...\")\n",
    "            print(f\"Path to file: {file_path}\")\n",
    "        else:\n",
    "            print(f\"Avatar video for {sign_language} not found.\")\n",
    "    else:\n",
    "        # Find the closest match to the user input using similarity matching\n",
    "        closest_match = find_closest_match(sign_language, sign_language_files.keys())\n",
    "        file_name = sign_language_files[closest_match]\n",
    "        file_path = os.path.join(folder_path, file_name)\n",
    "        print(f\"Displaying avatar for closest match: {closest_match}...\")\n",
    "        print(f\"Path to file: {file_path}\")\n",
    "\n",
    "# Example usage:\n",
    "user_input = input(\"Enter a sentence in sign language: \")\n",
    "display_avatar(user_input.lower())  # Convert user input to lowercase for case-insensitive matching"
   ]
  },
  {
   "cell_type": "code",
   "execution_count": 3,
   "id": "0bd78eb7",
   "metadata": {},
   "outputs": [
    {
     "name": "stdout",
     "output_type": "stream",
     "text": [
      "Enter a sentence in sign language: After Again\n",
      "Displaying avatar for closest match: After...\n"
     ]
    },
    {
     "data": {
      "text/html": [
       "<video width=\"320\" height=\"240\" controls><source src=\"assets\\After.mp4\" type=\"video/mp4\"></video>"
      ],
      "text/plain": [
       "<IPython.core.display.HTML object>"
      ]
     },
     "metadata": {},
     "output_type": "display_data"
    }
   ],
   "source": [
    "import os\n",
    "from nltk.metrics import edit_distance\n",
    "from IPython.display import HTML, display\n",
    "\n",
    "def find_closest_match(user_input, sign_languages):\n",
    "    # Calculate the edit distance (Levenshtein distance) between user input and each sign language\n",
    "    distances = [(language, edit_distance(user_input, language)) for language in sign_languages]\n",
    "    # Sort the distances by the edit distance in ascending order\n",
    "    sorted_distances = sorted(distances, key=lambda x: x[1])\n",
    "    # Return the sign language with the smallest edit distance\n",
    "    return sorted_distances[0][0]\n",
    "\n",
    "def display_avatar(sign_language):\n",
    "    # Path to the folder containing avatar videos\n",
    "    folder_path = \"assets\"\n",
    "\n",
    "    # Dictionary mapping sign languages to file names\n",
    "    sign_language_files = {\n",
    "        \"After\": \"After.mp4\",\n",
    "        \"Again\": \"Again.mp4\"\n",
    "        # Add more sign languages and their corresponding file names as needed\n",
    "    }\n",
    "\n",
    "    # Check if the sign language provided by the user exists in the dictionary\n",
    "    if sign_language in sign_language_files:\n",
    "        file_name = sign_language_files[sign_language]\n",
    "        file_path = os.path.join(folder_path, file_name)\n",
    "        \n",
    "        # Check if the file exists\n",
    "        if os.path.exists(file_path):\n",
    "            # Display the video using HTML\n",
    "            display(HTML(f'<video width=\"320\" height=\"240\" controls><source src=\"{file_path}\" type=\"video/mp4\"></video>'))\n",
    "        else:\n",
    "            print(f\"Avatar video for {sign_language} not found.\")\n",
    "    else:\n",
    "        # Find the closest match to the user input using similarity matching\n",
    "        closest_match = find_closest_match(sign_language, sign_language_files.keys())\n",
    "        file_name = sign_language_files[closest_match]\n",
    "        file_path = os.path.join(folder_path, file_name)\n",
    "        print(f\"Displaying avatar for closest match: {closest_match}...\")\n",
    "        # Display the video using HTML\n",
    "        display(HTML(f'<video width=\"320\" height=\"240\" controls><source src=\"{file_path}\" type=\"video/mp4\"></video>'))\n",
    "\n",
    "# Example usage:\n",
    "user_input = input(\"Enter a sentence in sign language: \")\n",
    "display_avatar(user_input.lower())  # Convert user input to lowercase for case-insensitive matching\n"
   ]
  },
  {
   "cell_type": "code",
   "execution_count": 4,
   "id": "db4aac70",
   "metadata": {},
   "outputs": [
    {
     "name": "stdout",
     "output_type": "stream",
     "text": [
      "Enter a sentence in sign language: After Again\n",
      "Displaying avatar for closest match: After...\n"
     ]
    },
    {
     "data": {
      "text/html": [
       "<video width=\"320\" height=\"240\" controls><source src=\"assets\\After.mp4\" type=\"video/mp4\"></video>"
      ],
      "text/plain": [
       "<IPython.core.display.HTML object>"
      ]
     },
     "metadata": {},
     "output_type": "display_data"
    },
    {
     "name": "stdout",
     "output_type": "stream",
     "text": [
      "Displaying avatar for closest match: Again...\n"
     ]
    },
    {
     "data": {
      "text/html": [
       "<video width=\"320\" height=\"240\" controls><source src=\"assets\\Again.mp4\" type=\"video/mp4\"></video>"
      ],
      "text/plain": [
       "<IPython.core.display.HTML object>"
      ]
     },
     "metadata": {},
     "output_type": "display_data"
    }
   ],
   "source": [
    "import os\n",
    "from nltk.metrics import edit_distance\n",
    "from IPython.display import HTML, display\n",
    "\n",
    "def find_closest_match(user_input, sign_languages):\n",
    "    # Calculate the edit distance (Levenshtein distance) between user input and each sign language\n",
    "    distances = [(language, edit_distance(user_input, language)) for language in sign_languages]\n",
    "    # Sort the distances by the edit distance in ascending order\n",
    "    sorted_distances = sorted(distances, key=lambda x: x[1])\n",
    "    # Return the sign language with the smallest edit distance\n",
    "    return sorted_distances[0][0]\n",
    "\n",
    "def display_avatar(sign_language):\n",
    "    # Path to the folder containing avatar videos\n",
    "    folder_path = \"assets\"\n",
    "\n",
    "    # Dictionary mapping sign languages to file names\n",
    "    sign_language_files = {\n",
    "        \"After\": \"After.mp4\",\n",
    "        \"Again\": \"Again.mp4\"\n",
    "        # Add more sign languages and their corresponding file names as needed\n",
    "    }\n",
    "\n",
    "    # Check if the sign language provided by the user exists in the dictionary\n",
    "    if sign_language in sign_language_files:\n",
    "        file_name = sign_language_files[sign_language]\n",
    "        file_path = os.path.join(folder_path, file_name)\n",
    "        \n",
    "        # Check if the file exists\n",
    "        if os.path.exists(file_path):\n",
    "            # Display the video using HTML\n",
    "            display(HTML(f'<video width=\"320\" height=\"240\" controls><source src=\"{file_path}\" type=\"video/mp4\"></video>'))\n",
    "        else:\n",
    "            print(f\"Avatar video for {sign_language} not found.\")\n",
    "    else:\n",
    "        # Find the closest match to the user input using similarity matching\n",
    "        closest_match = find_closest_match(sign_language, sign_language_files.keys())\n",
    "        file_name = sign_language_files[closest_match]\n",
    "        file_path = os.path.join(folder_path, file_name)\n",
    "        print(f\"Displaying avatar for closest match: {closest_match}...\")\n",
    "        # Display the video using HTML\n",
    "        display(HTML(f'<video width=\"320\" height=\"240\" controls><source src=\"{file_path}\" type=\"video/mp4\"></video>'))\n",
    "\n",
    "# Example usage:\n",
    "user_input = input(\"Enter a sentence in sign language: \")\n",
    "words = user_input.lower().split()  # Convert input to lowercase and split into words\n",
    "for word in words:\n",
    "    display_avatar(word)  # Display avatar video for each word in the sentence\n"
   ]
  },
  {
   "cell_type": "code",
   "execution_count": 5,
   "id": "266079f3",
   "metadata": {},
   "outputs": [
    {
     "name": "stdout",
     "output_type": "stream",
     "text": [
      "Enter a sentence in sign language: After Again\n"
     ]
    },
    {
     "data": {
      "text/html": [
       "<video width=\"320\" height=\"240\" controls><source src=\"assets/after.mp4\" type=\"video/mp4\"></video><video width=\"320\" height=\"240\" controls><source src=\"assets/again.mp4\" type=\"video/mp4\"></video>"
      ],
      "text/plain": [
       "<IPython.core.display.HTML object>"
      ]
     },
     "metadata": {},
     "output_type": "display_data"
    }
   ],
   "source": [
    "import os\n",
    "from nltk.metrics import edit_distance\n",
    "from IPython.display import HTML, display\n",
    "\n",
    "def find_closest_match(user_input, sign_languages):\n",
    "    # Calculate the edit distance (Levenshtein distance) between user input and each sign language\n",
    "    distances = [(language, edit_distance(user_input, language)) for language in sign_languages]\n",
    "    # Sort the distances by the edit distance in ascending order\n",
    "    sorted_distances = sorted(distances, key=lambda x: x[1])\n",
    "    # Return the sign language with the smallest edit distance\n",
    "    return sorted_distances[0][0]\n",
    "\n",
    "def display_avatar(sign_language):\n",
    "    # Path to the folder containing avatar videos\n",
    "    folder_path = \"assets\"\n",
    "\n",
    "    # Dictionary mapping sign languages to file names\n",
    "    sign_language_files = {\n",
    "        \"After\": \"After.mp4\",\n",
    "        \"Again\": \"Again.mp4\",\n",
    "        # Add more sign languages and their corresponding file names as needed\n",
    "    }\n",
    "\n",
    "    # Check if the sign language provided by the user exists in the dictionary\n",
    "    if sign_language in sign_language_files:\n",
    "        file_name = sign_language_files[sign_language]\n",
    "        file_path = os.path.join(folder_path, file_name)\n",
    "        \n",
    "        # Check if the file exists\n",
    "        if os.path.exists(file_path):\n",
    "            # Display the video using HTML\n",
    "            display(HTML(f'<video width=\"320\" height=\"240\" controls><source src=\"{file_path}\" type=\"video/mp4\"></video>'))\n",
    "        else:\n",
    "            print(f\"Avatar video for {sign_language} not found.\")\n",
    "    else:\n",
    "        # Find the closest match to the user input using similarity matching\n",
    "        closest_match = find_closest_match(sign_language, sign_language_files.keys())\n",
    "        file_name = sign_language_files[closest_match]\n",
    "        file_path = os.path.join(folder_path, file_name)\n",
    "        print(f\"Displaying avatar for closest match: {closest_match}...\")\n",
    "        # Display the video using HTML\n",
    "        display(HTML(f'<video width=\"320\" height=\"240\" controls><source src=\"{file_path}\" type=\"video/mp4\"></video>'))\n",
    "\n",
    "# Example usage:\n",
    "user_input = input(\"Enter a sentence in sign language: \")\n",
    "words = user_input.lower().split()  # Convert input to lowercase and split into words\n",
    "html_code = \"\"  # Initialize an empty string to store concatenated HTML code for videos\n",
    "for word in words:\n",
    "    # Concatenate HTML code for each video\n",
    "    html_code += f'<video width=\"320\" height=\"240\" controls><source src=\"assets/{word}.mp4\" type=\"video/mp4\"></video>'\n",
    "# Display concatenated HTML code to show all videos sequentially\n",
    "display(HTML(html_code))\n"
   ]
  },
  {
   "cell_type": "code",
   "execution_count": 12,
   "id": "21c75409",
   "metadata": {},
   "outputs": [
    {
     "name": "stdout",
     "output_type": "stream",
     "text": [
      "Enter a sentence in sign language: After Again\n",
      "Displaying avatar for closest match: After...\n"
     ]
    },
    {
     "data": {
      "text/html": [
       "<video width=\"320\" height=\"240\" controls autoplay><source src=\"assets\\After.mp4\" type=\"video/mp4\"></video>"
      ],
      "text/plain": [
       "<IPython.core.display.HTML object>"
      ]
     },
     "metadata": {},
     "output_type": "display_data"
    },
    {
     "data": {
      "text/html": [
       "<script>document.querySelector('video').pause();</script>"
      ],
      "text/plain": [
       "<IPython.core.display.HTML object>"
      ]
     },
     "metadata": {},
     "output_type": "display_data"
    },
    {
     "name": "stdout",
     "output_type": "stream",
     "text": [
      "Displaying avatar for closest match: Again...\n"
     ]
    },
    {
     "data": {
      "text/html": [
       "<video width=\"320\" height=\"240\" controls autoplay><source src=\"assets\\Again.mp4\" type=\"video/mp4\"></video>"
      ],
      "text/plain": [
       "<IPython.core.display.HTML object>"
      ]
     },
     "metadata": {},
     "output_type": "display_data"
    },
    {
     "data": {
      "text/html": [
       "<script>document.querySelector('video').pause();</script>"
      ],
      "text/plain": [
       "<IPython.core.display.HTML object>"
      ]
     },
     "metadata": {},
     "output_type": "display_data"
    }
   ],
   "source": [
    "import os\n",
    "from nltk.metrics import edit_distance\n",
    "from IPython.display import HTML, display\n",
    "import time\n",
    "\n",
    "def find_closest_match(user_input, sign_languages):\n",
    "    # Calculate the edit distance (Levenshtein distance) between user input and each sign language\n",
    "    distances = [(language, edit_distance(user_input, language)) for language in sign_languages]\n",
    "    # Sort the distances by the edit distance in ascending order\n",
    "    sorted_distances = sorted(distances, key=lambda x: x[1])\n",
    "    # Return the sign language with the smallest edit distance\n",
    "    return sorted_distances[0][0]\n",
    "\n",
    "def display_avatar(sign_language):\n",
    "    # Path to the folder containing avatar videos\n",
    "    folder_path = \"assets\"\n",
    "\n",
    "    # Dictionary mapping sign languages to file names\n",
    "    sign_language_files = {\n",
    "        \"After\": \"After.mp4\",\n",
    "        \"Again\": \"Again.mp4\",\n",
    "        # Add more sign languages and their corresponding file names as needed\n",
    "    }\n",
    "\n",
    "    # Check if the sign language provided by the user exists in the dictionary\n",
    "    if sign_language in sign_language_files:\n",
    "        file_name = sign_language_files[sign_language]\n",
    "        file_path = os.path.join(folder_path, file_name)\n",
    "        \n",
    "        # Check if the file exists\n",
    "        if os.path.exists(file_path):\n",
    "            # Display the video using HTML\n",
    "            display(HTML(f'<video width=\"320\" height=\"240\" controls autoplay><source src=\"{file_path}\" type=\"video/mp4\"></video>'))\n",
    "        else:\n",
    "            print(f\"Avatar video for {sign_language} not found.\")\n",
    "    else:\n",
    "        # Find the closest match to the user input using similarity matching\n",
    "        closest_match = find_closest_match(sign_language, sign_language_files.keys())\n",
    "        file_name = sign_language_files[closest_match]\n",
    "        file_path = os.path.join(folder_path, file_name)\n",
    "        print(f\"Displaying avatar for closest match: {closest_match}...\")\n",
    "        # Display the video using HTML\n",
    "        display(HTML(f'<video width=\"320\" height=\"240\" controls autoplay><source src=\"{file_path}\" type=\"video/mp4\"></video>'))\n",
    "        \n",
    "        # Pause the video after 5 seconds\n",
    "        time.sleep(5)\n",
    "        display(HTML(\"<script>document.querySelector('video').pause();</script>\"))  # Pause the video using JavaScript\n",
    "\n",
    "# Example usage:\n",
    "user_input = input(\"Enter a sentence in sign language: \")\n",
    "words = user_input.lower().split()  # Convert input to lowercase and split into words\n",
    "for word in words:\n",
    "    display_avatar(word)  # Display avatar video for each word in the sentence"
   ]
  },
  {
   "cell_type": "code",
   "execution_count": 11,
   "id": "b6f8acd8",
   "metadata": {},
   "outputs": [
    {
     "name": "stdout",
     "output_type": "stream",
     "text": [
      "Enter a sentence in sign language: after\n",
      "Displaying avatar for closest match: After...\n"
     ]
    },
    {
     "data": {
      "text/html": [
       "\n",
       "            <div style=\"position: relative;\">\n",
       "                <video width=\"320\" height=\"240\" controls autoplay style=\"position: absolute; top: 0; left: 0; z-index: 1;\">\n",
       "                    <source src=\"assets\\After.mp4\" type=\"video/mp4\">\n",
       "                </video>\n",
       "                <video width=\"320\" height=\"240\" controls autoplay style=\"position: absolute; top: 0; left: 0; z-index: 2;\">\n",
       "                    <source src=\"assets/after.mp4\" type=\"video/mp4\">\n",
       "                </video>\n",
       "            </div>\n",
       "        "
      ],
      "text/plain": [
       "<IPython.core.display.HTML object>"
      ]
     },
     "metadata": {},
     "output_type": "display_data"
    },
    {
     "data": {
      "text/html": [
       "<script>document.querySelectorAll('video')[1].pause();</script>"
      ],
      "text/plain": [
       "<IPython.core.display.HTML object>"
      ]
     },
     "metadata": {},
     "output_type": "display_data"
    }
   ],
   "source": [
    "import os\n",
    "from nltk.metrics import edit_distance\n",
    "from IPython.display import HTML, display\n",
    "import time\n",
    "\n",
    "def find_closest_match(user_input, sign_languages):\n",
    "    # Calculate the edit distance (Levenshtein distance) between user input and each sign language\n",
    "    distances = [(language, edit_distance(user_input, language)) for language in sign_languages]\n",
    "    # Sort the distances by the edit distance in ascending order\n",
    "    sorted_distances = sorted(distances, key=lambda x: x[1])\n",
    "    # Return the sign language with the smallest edit distance\n",
    "    return sorted_distances[0][0]\n",
    "\n",
    "def display_avatar(sign_language):\n",
    "    # Path to the folder containing avatar videos\n",
    "    folder_path = \"assets\"\n",
    "\n",
    "    # Dictionary mapping sign languages to file names\n",
    "    sign_language_files = {\n",
    "        \"After\": \"After.mp4\",\n",
    "        \"Again\": \"Again.mp4\"\n",
    "        # Add more sign languages and their corresponding file names as needed\n",
    "    }\n",
    "\n",
    "    # Check if the sign language provided by the user exists in the dictionary\n",
    "    if sign_language in sign_language_files:\n",
    "        file_name = sign_language_files[sign_language]\n",
    "        file_path = os.path.join(folder_path, file_name)\n",
    "        \n",
    "        # Check if the file exists\n",
    "        if os.path.exists(file_path):\n",
    "            # Display the video using HTML\n",
    "            display(HTML(f'<video width=\"320\" height=\"240\" controls autoplay><source src=\"{file_path}\" type=\"video/mp4\"></video>'))\n",
    "        else:\n",
    "            print(f\"Avatar video for {sign_language} not found.\")\n",
    "    else:\n",
    "        # Find the closest match to the user input using similarity matching\n",
    "        closest_match = find_closest_match(sign_language, sign_language_files.keys())\n",
    "        file_name = sign_language_files[closest_match]\n",
    "        file_path = os.path.join(folder_path, file_name)\n",
    "        print(f\"Displaying avatar for closest match: {closest_match}...\")\n",
    "        \n",
    "        # Display the new video over the current video using CSS positioning\n",
    "        display(HTML(f'''\n",
    "            <div style=\"position: relative;\">\n",
    "                <video width=\"320\" height=\"240\" controls autoplay style=\"position: absolute; top: 0; left: 0; z-index: 1;\">\n",
    "                    <source src=\"{file_path}\" type=\"video/mp4\">\n",
    "                </video>\n",
    "                <video width=\"320\" height=\"240\" controls autoplay style=\"position: absolute; top: 0; left: 0; z-index: 2;\">\n",
    "                    <source src=\"assets/{sign_language}.mp4\" type=\"video/mp4\">\n",
    "                </video>\n",
    "            </div>\n",
    "        '''))\n",
    "        \n",
    "        # Pause the current video after 5 seconds\n",
    "        time.sleep(5)\n",
    "        display(HTML(\"<script>document.querySelectorAll('video')[1].pause();</script>\"))  # Pause the new video using JavaScript\n",
    "\n",
    "# Example usage:\n",
    "user_input = input(\"Enter a sentence in sign language: \")\n",
    "words = user_input.lower().split()  # Convert input to lowercase and split into words\n",
    "for word in words:\n",
    "    display_avatar(word)  # Display avatar video for each word in the sentence\n"
   ]
  },
  {
   "cell_type": "code",
   "execution_count": null,
   "id": "3cf0fd46",
   "metadata": {},
   "outputs": [],
   "source": [
    " \"After\": \"After.mp4\",\n",
    "        \"Again\": \"Again.mp4\""
   ]
  },
  {
   "cell_type": "code",
   "execution_count": null,
   "id": "023c3e78",
   "metadata": {},
   "outputs": [],
   "source": []
  },
  {
   "cell_type": "code",
   "execution_count": 14,
   "id": "e7239b8a",
   "metadata": {},
   "outputs": [
    {
     "name": "stdout",
     "output_type": "stream",
     "text": [
      "Enter a sentence in sign language: Again After\n",
      "Displaying avatar for closest match: Again...\n"
     ]
    },
    {
     "data": {
      "text/html": [
       "\n",
       "            <script>\n",
       "                var oldVideo = document.getElementById('avatar-video');\n",
       "                if (oldVideo) {\n",
       "                    oldVideo.pause();\n",
       "                    oldVideo.remove();\n",
       "                }\n",
       "                var newVideo = document.createElement('video');\n",
       "                newVideo.id = 'avatar-video';\n",
       "                newVideo.width = '320';\n",
       "                newVideo.height = '240';\n",
       "                newVideo.controls = true;\n",
       "                newVideo.autoplay = true;\n",
       "                var source = document.createElement('source');\n",
       "                source.src = 'assets\\Again.mp4';\n",
       "                source.type = 'video/mp4';\n",
       "                newVideo.appendChild(source);\n",
       "                var container = document.createElement('div');\n",
       "                container.appendChild(newVideo);\n",
       "                display(container);\n",
       "            </script>\n",
       "        "
      ],
      "text/plain": [
       "<IPython.core.display.HTML object>"
      ]
     },
     "metadata": {},
     "output_type": "display_data"
    },
    {
     "name": "stdout",
     "output_type": "stream",
     "text": [
      "Displaying avatar for closest match: After...\n"
     ]
    },
    {
     "data": {
      "text/html": [
       "\n",
       "            <script>\n",
       "                var oldVideo = document.getElementById('avatar-video');\n",
       "                if (oldVideo) {\n",
       "                    oldVideo.pause();\n",
       "                    oldVideo.remove();\n",
       "                }\n",
       "                var newVideo = document.createElement('video');\n",
       "                newVideo.id = 'avatar-video';\n",
       "                newVideo.width = '320';\n",
       "                newVideo.height = '240';\n",
       "                newVideo.controls = true;\n",
       "                newVideo.autoplay = true;\n",
       "                var source = document.createElement('source');\n",
       "                source.src = 'assets\\After.mp4';\n",
       "                source.type = 'video/mp4';\n",
       "                newVideo.appendChild(source);\n",
       "                var container = document.createElement('div');\n",
       "                container.appendChild(newVideo);\n",
       "                display(container);\n",
       "            </script>\n",
       "        "
      ],
      "text/plain": [
       "<IPython.core.display.HTML object>"
      ]
     },
     "metadata": {},
     "output_type": "display_data"
    }
   ],
   "source": [
    "import os\n",
    "from nltk.metrics import edit_distance\n",
    "from IPython.display import HTML, display\n",
    "import time\n",
    "\n",
    "def find_closest_match(user_input, sign_languages):\n",
    "    # Calculate the edit distance (Levenshtein distance) between user input and each sign language\n",
    "    distances = [(language, edit_distance(user_input, language)) for language in sign_languages]\n",
    "    # Sort the distances by the edit distance in ascending order\n",
    "    sorted_distances = sorted(distances, key=lambda x: x[1])\n",
    "    # Return the sign language with the smallest edit distance\n",
    "    return sorted_distances[0][0]\n",
    "\n",
    "def display_avatar(sign_language):\n",
    "    # Path to the folder containing avatar videos\n",
    "    folder_path = \"assets\"\n",
    "\n",
    "    # Dictionary mapping sign languages to file names\n",
    "    sign_language_files = {\n",
    "         \"After\": \"After.mp4\",\n",
    "         \"Again\": \"Again.mp4\",\n",
    "        # Add more sign languages and their corresponding file names as needed\n",
    "    }\n",
    "\n",
    "    # Check if the sign language provided by the user exists in the dictionary\n",
    "    if sign_language in sign_language_files:\n",
    "        file_name = sign_language_files[sign_language]\n",
    "        file_path = os.path.join(folder_path, file_name)\n",
    "        \n",
    "        # Check if the file exists\n",
    "        if os.path.exists(file_path):\n",
    "            # Display the video using HTML\n",
    "            display(HTML(f'<video id=\"avatar-video\" width=\"320\" height=\"240\" controls autoplay><source src=\"{file_path}\" type=\"video/mp4\"></video>'))\n",
    "        else:\n",
    "            print(f\"Avatar video for {sign_language} not found.\")\n",
    "    else:\n",
    "        # Find the closest match to the user input using similarity matching\n",
    "        closest_match = find_closest_match(sign_language, sign_language_files.keys())\n",
    "        file_name = sign_language_files[closest_match]\n",
    "        file_path = os.path.join(folder_path, file_name)\n",
    "        print(f\"Displaying avatar for closest match: {closest_match}...\")\n",
    "        \n",
    "        # Display the new video using JavaScript to replace the existing video\n",
    "        display(HTML(f'''\n",
    "            <script>\n",
    "                var oldVideo = document.getElementById('avatar-video');\n",
    "                if (oldVideo) {{\n",
    "                    oldVideo.pause();\n",
    "                    oldVideo.remove();\n",
    "                }}\n",
    "                var newVideo = document.createElement('video');\n",
    "                newVideo.id = 'avatar-video';\n",
    "                newVideo.width = '320';\n",
    "                newVideo.height = '240';\n",
    "                newVideo.controls = true;\n",
    "                newVi"
   ]
  },
  {
   "cell_type": "code",
   "execution_count": 17,
   "id": "02ad43ef",
   "metadata": {},
   "outputs": [
    {
     "name": "stdout",
     "output_type": "stream",
     "text": [
      "Enter a sentence in sign language: After\n",
      "Displaying avatar for closest match: After...\n"
     ]
    },
    {
     "data": {
      "text/html": [
       "\n",
       "            <script>\n",
       "                var oldVideo = document.querySelector('video');\n",
       "                if (oldVideo) {\n",
       "                    oldVideo.pause();\n",
       "                    oldVideo.src = '';\n",
       "                    oldVideo.remove();\n",
       "                }\n",
       "                var newVideo = document.createElement('video');\n",
       "                newVideo.width = '320';\n",
       "                newVideo.height = '240';\n",
       "                newVideo.controls = true;\n",
       "                newVideo.autoplay = true;\n",
       "                var source = document.createElement('source');\n",
       "                source.src = 'C:\\Users\\91735\\OneDrive\\Desktop\\audio to sign\\firsttry\\assets\\After.mp4';\n",
       "                source.type = 'video/mp4';\n",
       "                newVideo.appendChild(source);\n",
       "                var container = document.createElement('div');\n",
       "                container.appendChild(newVideo);\n",
       "                display(container);\n",
       "            </script>\n",
       "        "
      ],
      "text/plain": [
       "<IPython.core.display.HTML object>"
      ]
     },
     "metadata": {},
     "output_type": "display_data"
    }
   ],
   "source": [
    "import os\n",
    "from nltk.metrics import edit_distance\n",
    "from IPython.display import HTML, display\n",
    "import time\n",
    "\n",
    "def find_closest_match(user_input, sign_languages):\n",
    "    # Calculate the edit distance (Levenshtein distance) between user input and each sign language\n",
    "    distances = [(language, edit_distance(user_input, language)) for language in sign_languages]\n",
    "    # Sort the distances by the edit distance in ascending order\n",
    "    sorted_distances = sorted(distances, key=lambda x: x[1])\n",
    "    # Return the sign language with the smallest edit distance\n",
    "    return sorted_distances[0][0]\n",
    "\n",
    "def display_avatar(sign_language):\n",
    "    # Path to the folder containing avatar videos\n",
    "    folder_path = \"C:\\\\Users\\\\91735\\\\OneDrive\\\\Desktop\\\\audio to sign\\\\firsttry\\\\assets\"\n",
    "\n",
    "    # Dictionary mapping sign languages to file names\n",
    "    sign_language_files = {\n",
    "         \"After\": \"After.mp4\",\n",
    "         \"Again\": \"Again.mp4\"\n",
    "        # Add more sign languages and their corresponding file names as needed\n",
    "    }\n",
    "\n",
    "    # Check if the sign language provided by the user exists in the dictionary\n",
    "    if sign_language in sign_language_files:\n",
    "        file_name = sign_language_files[sign_language]\n",
    "        file_path = os.path.join(folder_path, file_name)\n",
    "        \n",
    "        # Check if the file exists\n",
    "        if os.path.exists(file_path):\n",
    "            # Display the video using HTML\n",
    "            display(HTML(f'<video width=\"320\" height=\"240\" controls autoplay><source src=\"{file_path}\" type=\"video/mp4\"></video>'))\n",
    "        else:\n",
    "            print(f\"Avatar video for {sign_language} not found.\")\n",
    "    else:\n",
    "        # Find the closest match to the user input using similarity matching\n",
    "        closest_match = find_closest_match(sign_language, sign_language_files.keys())\n",
    "        file_name = sign_language_files[closest_match]\n",
    "        file_path = os.path.join(folder_path, file_name)\n",
    "        print(f\"Displaying avatar for closest match: {closest_match}...\")\n",
    "        \n",
    "        # Display the new video using JavaScript to replace the existing video\n",
    "        display(HTML(f'''\n",
    "            <script>\n",
    "                var oldVideo = document.querySelector('video');\n",
    "                if (oldVideo) {{\n",
    "                    oldVideo.pause();\n",
    "                    oldVideo.src = '';\n",
    "                    oldVideo.remove();\n",
    "                }}\n",
    "                var newVideo = document.createElement('video');\n",
    "                newVideo.width = '320';\n",
    "                newVideo.height = '240';\n",
    "                newVideo.controls = true;\n",
    "                newVideo.autoplay = true;\n",
    "                var source = document.createElement('source');\n",
    "                source.src = '{file_path}';\n",
    "                source.type = 'video/mp4';\n",
    "                newVideo.appendChild(source);\n",
    "                var container = document.createElement('div');\n",
    "                container.appendChild(newVideo);\n",
    "                display(container);\n",
    "            </script>\n",
    "        '''))\n",
    "        \n",
    "        # Pause the current video after 5 seconds\n",
    "        time.sleep(5)\n",
    "\n",
    "# Example usage:\n",
    "user_input = input(\"Enter a sentence in sign language: \")\n",
    "words = user_input.lower().split()  # Convert input to lowercase and split into words\n",
    "for word in words:\n",
    "    display_avatar(word)  # Display avatar video for each word in the sentence"
   ]
  },
  {
   "cell_type": "code",
   "execution_count": null,
   "id": "7b52b69c",
   "metadata": {},
   "outputs": [],
   "source": []
  }
 ],
 "metadata": {
  "kernelspec": {
   "display_name": "Python 3 (ipykernel)",
   "language": "python",
   "name": "python3"
  },
  "language_info": {
   "codemirror_mode": {
    "name": "ipython",
    "version": 3
   },
   "file_extension": ".py",
   "mimetype": "text/x-python",
   "name": "python",
   "nbconvert_exporter": "python",
   "pygments_lexer": "ipython3",
   "version": "3.11.3"
  }
 },
 "nbformat": 4,
 "nbformat_minor": 5
}
